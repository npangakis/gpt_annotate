{
  "nbformat": 4,
  "nbformat_minor": 0,
  "metadata": {
    "colab": {
      "provenance": []
    },
    "kernelspec": {
      "name": "python3",
      "display_name": "Python 3"
    },
    "language_info": {
      "name": "python"
    }
  },
  "cells": [
    {
      "cell_type": "markdown",
      "source": [
        "### Set up dependencies"
      ],
      "metadata": {
        "id": "NRMEai9kN2R7"
      }
    },
    {
      "cell_type": "code",
      "source": [
        "!pip install openai"
      ],
      "metadata": {
        "id": "8o0GuNYnN4I6"
      },
      "execution_count": null,
      "outputs": []
    },
    {
      "cell_type": "code",
      "source": [
        "!pip install tiktoken"
      ],
      "metadata": {
        "id": "rPXQ25hBN7-_"
      },
      "execution_count": null,
      "outputs": []
    },
    {
      "cell_type": "code",
      "source": [
        "import openai\n",
        "import pandas as pd\n",
        "import math\n",
        "import time\n",
        "import numpy as np\n",
        "import tiktoken\n",
        "\n",
        "#### Import main package: gpt_annotate.py\n",
        "# Make sure that the .py file is in the same directory as the .ipynb file, or you provide the correct relative or absolute path to the .py file.\n",
        "import gpt_annotate"
      ],
      "metadata": {
        "id": "Go5O5Lt6N9Z1"
      },
      "execution_count": null,
      "outputs": []
    },
    {
      "cell_type": "code",
      "source": [
        "key = \"your_OpenAI_api_key\" "
      ],
      "metadata": {
        "id": "s2SVKJPAOAWM"
      },
      "execution_count": null,
      "outputs": []
    },
    {
      "cell_type": "markdown",
      "source": [
        "### Load in text_to_annotate and codebook"
      ],
      "metadata": {
        "id": "xb5K0uyrOlUY"
      }
    },
    {
      "cell_type": "code",
      "source": [
        "# Load text to annotate\n",
        "text_to_annotate = pd.read_csv(\"text_to_classify.csv\")\n",
        "# Load codebook\n",
        "with open('codebook.txt', 'r') as file:\n",
        "    codebook = file.read()"
      ],
      "metadata": {
        "id": "Abeu-_5nOvLL"
      },
      "execution_count": null,
      "outputs": []
    },
    {
      "cell_type": "markdown",
      "source": [
        "# Annotate your data!"
      ],
      "metadata": {
        "id": "apc7cy-eO8tF"
      }
    },
    {
      "cell_type": "markdown",
      "source": [
        "### If you have human labels you want to compare the GPT outputs against"
      ],
      "metadata": {
        "id": "a62wf8FzanCf"
      }
    },
    {
      "cell_type": "code",
      "source": [
        "# Prepare the data for annotation\n",
        "text_to_annotate = gpt_annotate.prepare_data(text_to_annotate, codebook, key)"
      ],
      "metadata": {
        "id": "Dv7dc1mZPAGR"
      },
      "execution_count": null,
      "outputs": []
    },
    {
      "cell_type": "code",
      "source": [
        "# Annotate the data (returns 4 outputs)\n",
        "gpt_out_all, gpt_out_final, performance, incorrect =  gpt_annotate.gpt_annotate(text_to_annotate, codebook, key)"
      ],
      "metadata": {
        "id": "WzM16wq3ai0D"
      },
      "execution_count": null,
      "outputs": []
    },
    {
      "cell_type": "markdown",
      "source": [
        "### If only using gpt_annotate for prediction (i.e., no human labels to compare performance)"
      ],
      "metadata": {
        "id": "rd_dIEkxaseH"
      }
    },
    {
      "cell_type": "code",
      "source": [
        "# Prepare the data for annotation\n",
        "text_to_annotate = gpt_annotate.prepare_data(text_to_annotate, codebook, key, human_labels = False)"
      ],
      "metadata": {
        "id": "yK1hIfCOPX1v"
      },
      "execution_count": null,
      "outputs": []
    },
    {
      "cell_type": "code",
      "source": [
        "# Annotate the data (returns 2 outputs)\n",
        "gpt_out_all, gpt_out_final =  gpt_annotate.gpt_annotate(text_to_annotate, codebook, key, human_labels = False)"
      ],
      "metadata": {
        "id": "1h75bYJfbDPT"
      },
      "execution_count": null,
      "outputs": []
    }
  ]
}