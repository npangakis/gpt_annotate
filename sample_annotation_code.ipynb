{
  "nbformat": 4,
  "nbformat_minor": 0,
  "metadata": {
    "colab": {
      "provenance": [],
      "collapsed_sections": [
        "xb5K0uyrOlUY"
      ]
    },
    "kernelspec": {
      "name": "python3",
      "display_name": "Python 3"
    },
    "language_info": {
      "name": "python"
    }
  },
  "cells": [
    {
      "cell_type": "markdown",
      "source": [
        "### Set up dependencies"
      ],
      "metadata": {
        "id": "NRMEai9kN2R7"
      }
    },
    {
      "cell_type": "code",
      "source": [
        "!pip install openai"
      ],
      "metadata": {
        "id": "8o0GuNYnN4I6",
        "colab": {
          "base_uri": "https://localhost:8080/"
        },
        "outputId": "1015f5b8-f195-46f8-88ff-3d94ed9e6b0e"
      },
      "execution_count": null,
      "outputs": [
        {
          "output_type": "stream",
          "name": "stdout",
          "text": [
            "Looking in indexes: https://pypi.org/simple, https://us-python.pkg.dev/colab-wheels/public/simple/\n",
            "Collecting openai\n",
            "  Downloading openai-0.27.7-py3-none-any.whl (71 kB)\n",
            "\u001b[2K     \u001b[90m━━━━━━━━━━━━━━━━━━━━━━━━━━━━━━━━━━━━━━━━\u001b[0m \u001b[32m72.0/72.0 kB\u001b[0m \u001b[31m4.8 MB/s\u001b[0m eta \u001b[36m0:00:00\u001b[0m\n",
            "\u001b[?25hRequirement already satisfied: requests>=2.20 in /usr/local/lib/python3.10/dist-packages (from openai) (2.27.1)\n",
            "Requirement already satisfied: tqdm in /usr/local/lib/python3.10/dist-packages (from openai) (4.65.0)\n",
            "Collecting aiohttp (from openai)\n",
            "  Downloading aiohttp-3.8.4-cp310-cp310-manylinux_2_17_x86_64.manylinux2014_x86_64.whl (1.0 MB)\n",
            "\u001b[2K     \u001b[90m━━━━━━━━━━━━━━━━━━━━━━━━━━━━━━━━━━━━━━━━\u001b[0m \u001b[32m1.0/1.0 MB\u001b[0m \u001b[31m42.3 MB/s\u001b[0m eta \u001b[36m0:00:00\u001b[0m\n",
            "\u001b[?25hRequirement already satisfied: urllib3<1.27,>=1.21.1 in /usr/local/lib/python3.10/dist-packages (from requests>=2.20->openai) (1.26.15)\n",
            "Requirement already satisfied: certifi>=2017.4.17 in /usr/local/lib/python3.10/dist-packages (from requests>=2.20->openai) (2022.12.7)\n",
            "Requirement already satisfied: charset-normalizer~=2.0.0 in /usr/local/lib/python3.10/dist-packages (from requests>=2.20->openai) (2.0.12)\n",
            "Requirement already satisfied: idna<4,>=2.5 in /usr/local/lib/python3.10/dist-packages (from requests>=2.20->openai) (3.4)\n",
            "Requirement already satisfied: attrs>=17.3.0 in /usr/local/lib/python3.10/dist-packages (from aiohttp->openai) (23.1.0)\n",
            "Collecting multidict<7.0,>=4.5 (from aiohttp->openai)\n",
            "  Downloading multidict-6.0.4-cp310-cp310-manylinux_2_17_x86_64.manylinux2014_x86_64.whl (114 kB)\n",
            "\u001b[2K     \u001b[90m━━━━━━━━━━━━━━━━━━━━━━━━━━━━━━━━━━━━━━\u001b[0m \u001b[32m114.5/114.5 kB\u001b[0m \u001b[31m11.5 MB/s\u001b[0m eta \u001b[36m0:00:00\u001b[0m\n",
            "\u001b[?25hCollecting async-timeout<5.0,>=4.0.0a3 (from aiohttp->openai)\n",
            "  Downloading async_timeout-4.0.2-py3-none-any.whl (5.8 kB)\n",
            "Collecting yarl<2.0,>=1.0 (from aiohttp->openai)\n",
            "  Downloading yarl-1.9.2-cp310-cp310-manylinux_2_17_x86_64.manylinux2014_x86_64.whl (268 kB)\n",
            "\u001b[2K     \u001b[90m━━━━━━━━━━━━━━━━━━━━━━━━━━━━━━━━━━━━━━\u001b[0m \u001b[32m268.8/268.8 kB\u001b[0m \u001b[31m27.7 MB/s\u001b[0m eta \u001b[36m0:00:00\u001b[0m\n",
            "\u001b[?25hCollecting frozenlist>=1.1.1 (from aiohttp->openai)\n",
            "  Downloading frozenlist-1.3.3-cp310-cp310-manylinux_2_5_x86_64.manylinux1_x86_64.manylinux_2_17_x86_64.manylinux2014_x86_64.whl (149 kB)\n",
            "\u001b[2K     \u001b[90m━━━━━━━━━━━━━━━━━━━━━━━━━━━━━━━━━━━━━━\u001b[0m \u001b[32m149.6/149.6 kB\u001b[0m \u001b[31m16.0 MB/s\u001b[0m eta \u001b[36m0:00:00\u001b[0m\n",
            "\u001b[?25hCollecting aiosignal>=1.1.2 (from aiohttp->openai)\n",
            "  Downloading aiosignal-1.3.1-py3-none-any.whl (7.6 kB)\n",
            "Installing collected packages: multidict, frozenlist, async-timeout, yarl, aiosignal, aiohttp, openai\n",
            "Successfully installed aiohttp-3.8.4 aiosignal-1.3.1 async-timeout-4.0.2 frozenlist-1.3.3 multidict-6.0.4 openai-0.27.7 yarl-1.9.2\n"
          ]
        }
      ]
    },
    {
      "cell_type": "code",
      "source": [
        "!pip install tiktoken"
      ],
      "metadata": {
        "id": "rPXQ25hBN7-_",
        "colab": {
          "base_uri": "https://localhost:8080/"
        },
        "outputId": "f5a8cc2e-fd07-4ccd-d912-995b6a23ef1f"
      },
      "execution_count": null,
      "outputs": [
        {
          "output_type": "stream",
          "name": "stdout",
          "text": [
            "Looking in indexes: https://pypi.org/simple, https://us-python.pkg.dev/colab-wheels/public/simple/\n",
            "Collecting tiktoken\n",
            "  Downloading tiktoken-0.4.0-cp310-cp310-manylinux_2_17_x86_64.manylinux2014_x86_64.whl (1.7 MB)\n",
            "\u001b[2K     \u001b[90m━━━━━━━━━━━━━━━━━━━━━━━━━━━━━━━━━━━━━━━━\u001b[0m \u001b[32m1.7/1.7 MB\u001b[0m \u001b[31m36.1 MB/s\u001b[0m eta \u001b[36m0:00:00\u001b[0m\n",
            "\u001b[?25hRequirement already satisfied: regex>=2022.1.18 in /usr/local/lib/python3.10/dist-packages (from tiktoken) (2022.10.31)\n",
            "Requirement already satisfied: requests>=2.26.0 in /usr/local/lib/python3.10/dist-packages (from tiktoken) (2.27.1)\n",
            "Requirement already satisfied: urllib3<1.27,>=1.21.1 in /usr/local/lib/python3.10/dist-packages (from requests>=2.26.0->tiktoken) (1.26.15)\n",
            "Requirement already satisfied: certifi>=2017.4.17 in /usr/local/lib/python3.10/dist-packages (from requests>=2.26.0->tiktoken) (2022.12.7)\n",
            "Requirement already satisfied: charset-normalizer~=2.0.0 in /usr/local/lib/python3.10/dist-packages (from requests>=2.26.0->tiktoken) (2.0.12)\n",
            "Requirement already satisfied: idna<4,>=2.5 in /usr/local/lib/python3.10/dist-packages (from requests>=2.26.0->tiktoken) (3.4)\n",
            "Installing collected packages: tiktoken\n",
            "Successfully installed tiktoken-0.4.0\n"
          ]
        }
      ]
    },
    {
      "cell_type": "code",
      "source": [
        "import openai\n",
        "import pandas as pd\n",
        "import math\n",
        "import time\n",
        "import numpy as np\n",
        "import tiktoken\n",
        "\n",
        "#### Import main package: gpt_annotate.py\n",
        "# Make sure that the .py file is in the same directory as the .ipynb file, or you provide the correct relative or absolute path to the .py file.\n",
        "import gpt_annotate"
      ],
      "metadata": {
        "id": "Go5O5Lt6N9Z1"
      },
      "execution_count": null,
      "outputs": []
    },
    {
      "cell_type": "code",
      "source": [
        "key = \"your_OpenAI_api_key\" "
      ],
      "metadata": {
        "id": "s2SVKJPAOAWM"
      },
      "execution_count": null,
      "outputs": []
    },
    {
      "cell_type": "markdown",
      "source": [
        "### Load in text_to_annotate and codebook"
      ],
      "metadata": {
        "id": "xb5K0uyrOlUY"
      }
    },
    {
      "cell_type": "code",
      "source": [
        "dataset = \"text_to_classify_full.csv\"\n",
        "\n",
        "text_to_annotate = pd.read_csv(dataset)\n",
        "text_to_annotate = text_to_annotate.head(30)"
      ],
      "metadata": {
        "id": "Abeu-_5nOvLL"
      },
      "execution_count": null,
      "outputs": []
    },
    {
      "cell_type": "code",
      "source": [
        "# Load in codebook\n",
        "with open('codebook.txt', 'r') as file:\n",
        "    codebook = file.read()"
      ],
      "metadata": {
        "id": "GteldvtiOp4x"
      },
      "execution_count": null,
      "outputs": []
    },
    {
      "cell_type": "markdown",
      "source": [
        "# Annotate your data!"
      ],
      "metadata": {
        "id": "apc7cy-eO8tF"
      }
    },
    {
      "cell_type": "markdown",
      "source": [
        "### If you have human labels you want to compare the GPT outputs against"
      ],
      "metadata": {
        "id": "a62wf8FzanCf"
      }
    },
    {
      "cell_type": "code",
      "source": [
        "# Prepare the data for annotation\n",
        "text_to_annotate = gpt_annotate.prepare_data(text_to_annotate, codebook, key)"
      ],
      "metadata": {
        "id": "Dv7dc1mZPAGR",
        "colab": {
          "base_uri": "https://localhost:8080/"
        },
        "outputId": "fea4f9e3-da93-406f-a24a-b76c1187e18f"
      },
      "execution_count": null,
      "outputs": [
        {
          "output_type": "stream",
          "name": "stdout",
          "text": [
            "\n",
            "Categories to annotate:\n",
            "1) TARGETED\n",
            "2) UNTARGETED\n",
            "\n",
            "Above are the categories you are annotating. Is this correct? (Options: Y or N) Y\n",
            "\n",
            "Data is ready to be annotated using gpt_annotate()!\n",
            "\n",
            "Glimpse of your data:\n",
            "Shape of data:  (30, 5)\n",
            "   unique_id                                               text  TARGETED  \\\n",
            "0          0  He was killed during the clashes Due to clashe...         0   \n",
            "1          1  Cited indiscriminate bombing Cited after the s...         0   \n",
            "2          2  N. K., was found dead near the farm Alsokhni V...         0   \n",
            "3          3  Cited by burning at the hands of regime forces...         1   \n",
            "4          4  Cited slaughtered with knives at the hands of ...         1   \n",
            "\n",
            "   UNTARGETED                                          llm_query  \n",
            "0           1  0 He was killed during the clashes Due to clas...  \n",
            "1           1  1 Cited indiscriminate bombing Cited after the...  \n",
            "2           1  2 N. K., was found dead near the farm Alsokhni...  \n",
            "3           0  3 Cited by burning at the hands of regime forc...  \n",
            "4           0  4 Cited slaughtered with knives at the hands o...  \n"
          ]
        }
      ]
    },
    {
      "cell_type": "code",
      "source": [
        "# Annotate the data (returns 4 outputs)\n",
        "gpt_out_all, gpt_out_final, performance, incorrect =  gpt_annotate.gpt_annotate(text_to_annotate, codebook, key)"
      ],
      "metadata": {
        "id": "WzM16wq3ai0D",
        "colab": {
          "base_uri": "https://localhost:8080/"
        },
        "outputId": "2b84f5e7-ad80-41a3-9b8c-dd0725bb4b51"
      },
      "execution_count": null,
      "outputs": [
        {
          "output_type": "stream",
          "name": "stdout",
          "text": [
            "Have you run prepare_data() to ensure text_to_annotate is in correct format? (Options: Y or N) Y\n",
            "\n",
            "Categories to annotate:\n",
            "1) TARGETED\n",
            "2) UNTARGETED\n",
            "\n",
            "You are about to annotate 30 text samples and the number of iterations is set to 3\n",
            "Estimated cost range in US Dollars: 0.27 - 0.33\n",
            "Estimated minutes to run gpt_annotate(): 2.18 - 4.06\n",
            "Please note that these are rough estimates.\n",
            "\n",
            "Would you like to proceed and annotate your data? (Options: Y or N) Y\n",
            "iteration:  1 completed\n",
            "iteration:  2 completed\n",
            "iteration:  3 completed\n"
          ]
        }
      ]
    },
    {
      "cell_type": "markdown",
      "source": [
        "### If only using gpt_annotate for prediction (i.e., no human labels to compare performance)"
      ],
      "metadata": {
        "id": "rd_dIEkxaseH"
      }
    },
    {
      "cell_type": "code",
      "source": [
        "# Prepare the data for annotation\n",
        "text_to_annotate = gpt_annotate.prepare_data(text_to_annotate, codebook, key, human_labels = False)"
      ],
      "metadata": {
        "id": "yK1hIfCOPX1v"
      },
      "execution_count": null,
      "outputs": []
    },
    {
      "cell_type": "code",
      "source": [
        "# Annotate the data (returns 2 outputs)\n",
        "gpt_out_all, gpt_out_final =  gpt_annotate.gpt_annotate(text_to_annotate, codebook, key, human_labels = False)"
      ],
      "metadata": {
        "id": "1h75bYJfbDPT"
      },
      "execution_count": null,
      "outputs": []
    }
  ]
}